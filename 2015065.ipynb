{
  "nbformat": 4,
  "nbformat_minor": 0,
  "metadata": {
    "colab": {
      "provenance": [],
      "authorship_tag": "ABX9TyOq4dyoHORjJ9mVQ5y8Sc1l",
      "include_colab_link": true
    },
    "kernelspec": {
      "name": "python3",
      "display_name": "Python 3"
    },
    "language_info": {
      "name": "python"
    }
  },
  "cells": [
    {
      "cell_type": "markdown",
      "metadata": {
        "id": "view-in-github",
        "colab_type": "text"
      },
      "source": [
        "<a href=\"https://colab.research.google.com/github/mrkim21/m24/blob/main/2015065.ipynb\" target=\"_parent\"><img src=\"https://colab.research.google.com/assets/colab-badge.svg\" alt=\"Open In Colab\"/></a>"
      ]
    },
    {
      "cell_type": "markdown",
      "source": [
        "🌀Midterm 2024: your full name"
      ],
      "metadata": {
        "id": "vbaA9PqQocSe"
      }
    },
    {
      "cell_type": "markdown",
      "source": [
        "## Name Question"
      ],
      "metadata": {
        "id": "qkokG79nqDSV"
      }
    },
    {
      "cell_type": "code",
      "execution_count": 4,
      "metadata": {
        "colab": {
          "base_uri": "https://localhost:8080/"
        },
        "id": "RJyCDz7-oV-X",
        "outputId": "8f2af146-f613-4dbf-e8e3-c7014beb8142"
      },
      "outputs": [
        {
          "output_type": "stream",
          "name": "stdout",
          "text": [
            "My name is Miran.\n"
          ]
        }
      ],
      "source": [
        "# Name question\n",
        "x = \"My name is\"\n",
        "y = \"Miran\"\n",
        "\n",
        "print(x, y+\".\")"
      ]
    },
    {
      "cell_type": "markdown",
      "source": [
        "## Index Question"
      ],
      "metadata": {
        "id": "4i36gGe0qidY"
      }
    },
    {
      "cell_type": "code",
      "source": [
        "# Dropdown\n",
        "\n",
        "cardinal_number = \"2\" #@param = [\"1\",\"2\",\"3\",\"4\"]\n",
        "\n",
        "# Add one line of code below\n",
        "cardinal_number = int(cardinal_number)\n",
        "\n",
        "# Ordinal expression as a list\n",
        "\n",
        "words = [\"First\", \"Second\", \"Third\",\"Fourth\"]\n",
        "\n",
        "print(\"The ordinal expression:\", words[cardinal_number-1])"
      ],
      "metadata": {
        "colab": {
          "base_uri": "https://localhost:8080/"
        },
        "cellView": "form",
        "id": "zl_nW1-6qzjq",
        "outputId": "331ae0ae-f08e-40a1-ef91-42ed0a9e0017"
      },
      "execution_count": 7,
      "outputs": [
        {
          "output_type": "stream",
          "name": "stdout",
          "text": [
            "The ordinal expression: Second\n"
          ]
        }
      ]
    },
    {
      "cell_type": "markdown",
      "source": [
        "## Variable Question"
      ],
      "metadata": {
        "id": "2SG3-MQmrMbp"
      }
    },
    {
      "cell_type": "code",
      "source": [
        "# Mary, 1998, Ohio; John, 1999, Boston\n",
        "\n",
        "x = input(\"Name:\")\n",
        "y = input(\"Born in:\")\n",
        "z = input(\"From:\")\n",
        "\n",
        "print(f\"Hello, my name is {x}, I was born in {y}. I'm from {z}. Nice to meet you.\")\n"
      ],
      "metadata": {
        "colab": {
          "base_uri": "https://localhost:8080/"
        },
        "id": "3xK1t5HirOUC",
        "outputId": "ecaa16c2-c582-4da5-ea58-2c88651c5180"
      },
      "execution_count": 8,
      "outputs": [
        {
          "output_type": "stream",
          "name": "stdout",
          "text": [
            "Name:Mary\n",
            "Born in:1998\n",
            "From:Ohio\n",
            "Hello, my name is Mary, I was born in 1998. I'm from Ohio. Nice to meet you.\n"
          ]
        }
      ]
    },
    {
      "cell_type": "markdown",
      "source": [
        "## Dictionary Question"
      ],
      "metadata": {
        "id": "ueyKpHWer5gQ"
      }
    },
    {
      "cell_type": "code",
      "source": [
        "grades = {'Mary': 95, 'John': 87, 'Bob': 80}\n",
        "\n",
        "print(grades['Bob'])"
      ],
      "metadata": {
        "colab": {
          "base_uri": "https://localhost:8080/"
        },
        "id": "1c2Pnm-Gr752",
        "outputId": "2040686b-c079-4628-b951-15ca02f94c86"
      },
      "execution_count": 9,
      "outputs": [
        {
          "output_type": "stream",
          "name": "stdout",
          "text": [
            "80\n"
          ]
        }
      ]
    },
    {
      "cell_type": "markdown",
      "source": [
        "## GTTS Question"
      ],
      "metadata": {
        "id": "Nr9fxHZXsNHL"
      }
    },
    {
      "cell_type": "code",
      "source": [
        "# First, install the gTTS library if you haven't already\n",
        "!pip install gTTS\n",
        "\n",
        "# Import the gTTS library\n",
        "from gtts import gTTS\n",
        "\n",
        "# Import IPython display module\n",
        "from IPython.display import Audio, display"
      ],
      "metadata": {
        "colab": {
          "base_uri": "https://localhost:8080/"
        },
        "id": "i5SoRGS4sPEl",
        "outputId": "2ccadb1e-4de5-431f-e39d-31d905b929a0"
      },
      "execution_count": 10,
      "outputs": [
        {
          "output_type": "stream",
          "name": "stdout",
          "text": [
            "Collecting gTTS\n",
            "  Downloading gTTS-2.5.1-py3-none-any.whl (29 kB)\n",
            "Requirement already satisfied: requests<3,>=2.27 in /usr/local/lib/python3.10/dist-packages (from gTTS) (2.31.0)\n",
            "Requirement already satisfied: click<8.2,>=7.1 in /usr/local/lib/python3.10/dist-packages (from gTTS) (8.1.7)\n",
            "Requirement already satisfied: charset-normalizer<4,>=2 in /usr/local/lib/python3.10/dist-packages (from requests<3,>=2.27->gTTS) (3.3.2)\n",
            "Requirement already satisfied: idna<4,>=2.5 in /usr/local/lib/python3.10/dist-packages (from requests<3,>=2.27->gTTS) (3.7)\n",
            "Requirement already satisfied: urllib3<3,>=1.21.1 in /usr/local/lib/python3.10/dist-packages (from requests<3,>=2.27->gTTS) (2.0.7)\n",
            "Requirement already satisfied: certifi>=2017.4.17 in /usr/local/lib/python3.10/dist-packages (from requests<3,>=2.27->gTTS) (2024.2.2)\n",
            "Installing collected packages: gTTS\n",
            "Successfully installed gTTS-2.5.1\n"
          ]
        }
      ]
    },
    {
      "cell_type": "code",
      "source": [
        "# Text to be converted to speech\n",
        "text = input()\n",
        "\n",
        "# Language in which you want to convert\n",
        "language = 'en'\n",
        "\n",
        "# Pass the text and language to the gTTS module\n",
        "speech = gTTS(text = text, lang = language, slow = False)\n",
        "\n",
        "# Save the converted audio file\n",
        "speech.save(\"output.mp3\")\n",
        "\n",
        "# Display the audio directly in the notebook\n",
        "display(Audio(\"output.mp3\", autoplay=True))"
      ],
      "metadata": {
        "colab": {
          "base_uri": "https://localhost:8080/",
          "height": 93
        },
        "id": "4m3iN5t2sajn",
        "outputId": "7b39cbbc-a4ec-40d8-989b-cb9baf3890ab"
      },
      "execution_count": 12,
      "outputs": [
        {
          "name": "stdout",
          "output_type": "stream",
          "text": [
            "I succeeded this task.\n"
          ]
        },
        {
          "output_type": "display_data",
          "data": {
            "text/plain": [
              "<IPython.lib.display.Audio object>"
            ],
            "text/html": [
              "\n",
              "                <audio  controls=\"controls\" autoplay=\"autoplay\">\n",
              "                    <source src=\"data:audio/mpeg;base64,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\" type=\"audio/mpeg\" />\n",
              "                    Your browser does not support the audio element.\n",
              "                </audio>\n",
              "              "
            ]
          },
          "metadata": {}
        }
      ]
    },
    {
      "cell_type": "markdown",
      "source": [
        "## Function Question"
      ],
      "metadata": {
        "id": "_OTERaM1tfn7"
      }
    },
    {
      "cell_type": "code",
      "source": [
        "# Define a function for multiplication\n",
        "def multiply(x, y):\n",
        "    return x * y\n",
        "\n",
        "# Test the function\n",
        "result = multiply(5, 7)\n",
        "print(\"The result of multiplication is:\", result)"
      ],
      "metadata": {
        "id": "eFLkuCfytiQ1"
      },
      "execution_count": null,
      "outputs": []
    },
    {
      "cell_type": "code",
      "source": [
        "# Define a function for multiplication\n",
        "def division(x, y):\n",
        "    return x/y\n",
        "\n",
        "# Test the function\n",
        "result = division(20, 4)\n",
        "print(\"The result of division is:\", result)"
      ],
      "metadata": {
        "colab": {
          "base_uri": "https://localhost:8080/"
        },
        "id": "75ml8D04torJ",
        "outputId": "8e46142c-ac69-4abb-c7ef-edd0da768474"
      },
      "execution_count": 17,
      "outputs": [
        {
          "output_type": "stream",
          "name": "stdout",
          "text": [
            "The result of division is: 5.0\n"
          ]
        }
      ]
    },
    {
      "cell_type": "markdown",
      "source": [
        "## Audio Question"
      ],
      "metadata": {
        "id": "YP5AUsSUt57f"
      }
    },
    {
      "cell_type": "code",
      "source": [
        "!pip install gradio gtts"
      ],
      "metadata": {
        "colab": {
          "base_uri": "https://localhost:8080/"
        },
        "id": "pZfPiL_qt79X",
        "outputId": "d6c8283b-88d2-4c25-8db7-b4e19fb50b35"
      },
      "execution_count": 18,
      "outputs": [
        {
          "output_type": "stream",
          "name": "stdout",
          "text": [
            "Collecting gradio\n",
            "  Downloading gradio-4.28.3-py3-none-any.whl (12.2 MB)\n",
            "\u001b[2K     \u001b[90m━━━━━━━━━━━━━━━━━━━━━━━━━━━━━━━━━━━━━━━━\u001b[0m \u001b[32m12.2/12.2 MB\u001b[0m \u001b[31m55.1 MB/s\u001b[0m eta \u001b[36m0:00:00\u001b[0m\n",
            "\u001b[?25hRequirement already satisfied: gtts in /usr/local/lib/python3.10/dist-packages (2.5.1)\n",
            "Collecting aiofiles<24.0,>=22.0 (from gradio)\n",
            "  Downloading aiofiles-23.2.1-py3-none-any.whl (15 kB)\n",
            "Requirement already satisfied: altair<6.0,>=4.2.0 in /usr/local/lib/python3.10/dist-packages (from gradio) (4.2.2)\n",
            "Collecting fastapi (from gradio)\n",
            "  Downloading fastapi-0.110.2-py3-none-any.whl (91 kB)\n",
            "\u001b[2K     \u001b[90m━━━━━━━━━━━━━━━━━━━━━━━━━━━━━━━━━━━━━━━━\u001b[0m \u001b[32m91.9/91.9 kB\u001b[0m \u001b[31m10.1 MB/s\u001b[0m eta \u001b[36m0:00:00\u001b[0m\n",
            "\u001b[?25hCollecting ffmpy (from gradio)\n",
            "  Downloading ffmpy-0.3.2.tar.gz (5.5 kB)\n",
            "  Preparing metadata (setup.py) ... \u001b[?25l\u001b[?25hdone\n",
            "Collecting gradio-client==0.16.0 (from gradio)\n",
            "  Downloading gradio_client-0.16.0-py3-none-any.whl (314 kB)\n",
            "\u001b[2K     \u001b[90m━━━━━━━━━━━━━━━━━━━━━━━━━━━━━━━━━━━━━━━━\u001b[0m \u001b[32m314.4/314.4 kB\u001b[0m \u001b[31m27.6 MB/s\u001b[0m eta \u001b[36m0:00:00\u001b[0m\n",
            "\u001b[?25hCollecting httpx>=0.24.1 (from gradio)\n",
            "  Downloading httpx-0.27.0-py3-none-any.whl (75 kB)\n",
            "\u001b[2K     \u001b[90m━━━━━━━━━━━━━━━━━━━━━━━━━━━━━━━━━━━━━━━━\u001b[0m \u001b[32m75.6/75.6 kB\u001b[0m \u001b[31m8.0 MB/s\u001b[0m eta \u001b[36m0:00:00\u001b[0m\n",
            "\u001b[?25hRequirement already satisfied: huggingface-hub>=0.19.3 in /usr/local/lib/python3.10/dist-packages (from gradio) (0.20.3)\n",
            "Requirement already satisfied: importlib-resources<7.0,>=1.3 in /usr/local/lib/python3.10/dist-packages (from gradio) (6.4.0)\n",
            "Requirement already satisfied: jinja2<4.0 in /usr/local/lib/python3.10/dist-packages (from gradio) (3.1.3)\n",
            "Requirement already satisfied: markupsafe~=2.0 in /usr/local/lib/python3.10/dist-packages (from gradio) (2.1.5)\n",
            "Requirement already satisfied: matplotlib~=3.0 in /usr/local/lib/python3.10/dist-packages (from gradio) (3.7.1)\n",
            "Requirement already satisfied: numpy~=1.0 in /usr/local/lib/python3.10/dist-packages (from gradio) (1.25.2)\n",
            "Collecting orjson~=3.0 (from gradio)\n",
            "  Downloading orjson-3.10.1-cp310-cp310-manylinux_2_17_x86_64.manylinux2014_x86_64.whl (141 kB)\n",
            "\u001b[2K     \u001b[90m━━━━━━━━━━━━━━━━━━━━━━━━━━━━━━━━━━━━━━━━\u001b[0m \u001b[32m141.1/141.1 kB\u001b[0m \u001b[31m15.9 MB/s\u001b[0m eta \u001b[36m0:00:00\u001b[0m\n",
            "\u001b[?25hRequirement already satisfied: packaging in /usr/local/lib/python3.10/dist-packages (from gradio) (24.0)\n",
            "Requirement already satisfied: pandas<3.0,>=1.0 in /usr/local/lib/python3.10/dist-packages (from gradio) (2.0.3)\n",
            "Requirement already satisfied: pillow<11.0,>=8.0 in /usr/local/lib/python3.10/dist-packages (from gradio) (9.4.0)\n",
            "Requirement already satisfied: pydantic>=2.0 in /usr/local/lib/python3.10/dist-packages (from gradio) (2.7.0)\n",
            "Collecting pydub (from gradio)\n",
            "  Downloading pydub-0.25.1-py2.py3-none-any.whl (32 kB)\n",
            "Collecting python-multipart>=0.0.9 (from gradio)\n",
            "  Downloading python_multipart-0.0.9-py3-none-any.whl (22 kB)\n",
            "Requirement already satisfied: pyyaml<7.0,>=5.0 in /usr/local/lib/python3.10/dist-packages (from gradio) (6.0.1)\n",
            "Collecting ruff>=0.2.2 (from gradio)\n",
            "  Downloading ruff-0.4.2-py3-none-manylinux_2_17_x86_64.manylinux2014_x86_64.whl (8.8 MB)\n",
            "\u001b[2K     \u001b[90m━━━━━━━━━━━━━━━━━━━━━━━━━━━━━━━━━━━━━━━━\u001b[0m \u001b[32m8.8/8.8 MB\u001b[0m \u001b[31m52.8 MB/s\u001b[0m eta \u001b[36m0:00:00\u001b[0m\n",
            "\u001b[?25hCollecting semantic-version~=2.0 (from gradio)\n",
            "  Downloading semantic_version-2.10.0-py2.py3-none-any.whl (15 kB)\n",
            "Collecting tomlkit==0.12.0 (from gradio)\n",
            "  Downloading tomlkit-0.12.0-py3-none-any.whl (37 kB)\n",
            "Collecting typer<1.0,>=0.12 (from gradio)\n",
            "  Downloading typer-0.12.3-py3-none-any.whl (47 kB)\n",
            "\u001b[2K     \u001b[90m━━━━━━━━━━━━━━━━━━━━━━━━━━━━━━━━━━━━━━━━\u001b[0m \u001b[32m47.2/47.2 kB\u001b[0m \u001b[31m4.2 MB/s\u001b[0m eta \u001b[36m0:00:00\u001b[0m\n",
            "\u001b[?25hRequirement already satisfied: typing-extensions~=4.0 in /usr/local/lib/python3.10/dist-packages (from gradio) (4.11.0)\n",
            "Requirement already satisfied: urllib3~=2.0 in /usr/local/lib/python3.10/dist-packages (from gradio) (2.0.7)\n",
            "Collecting uvicorn>=0.14.0 (from gradio)\n",
            "  Downloading uvicorn-0.29.0-py3-none-any.whl (60 kB)\n",
            "\u001b[2K     \u001b[90m━━━━━━━━━━━━━━━━━━━━━━━━━━━━━━━━━━━━━━━━\u001b[0m \u001b[32m60.8/60.8 kB\u001b[0m \u001b[31m5.8 MB/s\u001b[0m eta \u001b[36m0:00:00\u001b[0m\n",
            "\u001b[?25hRequirement already satisfied: fsspec in /usr/local/lib/python3.10/dist-packages (from gradio-client==0.16.0->gradio) (2023.6.0)\n",
            "Collecting websockets<12.0,>=10.0 (from gradio-client==0.16.0->gradio)\n",
            "  Downloading websockets-11.0.3-cp310-cp310-manylinux_2_5_x86_64.manylinux1_x86_64.manylinux_2_17_x86_64.manylinux2014_x86_64.whl (129 kB)\n",
            "\u001b[2K     \u001b[90m━━━━━━━━━━━━━━━━━━━━━━━━━━━━━━━━━━━━━━━━\u001b[0m \u001b[32m129.9/129.9 kB\u001b[0m \u001b[31m13.9 MB/s\u001b[0m eta \u001b[36m0:00:00\u001b[0m\n",
            "\u001b[?25hRequirement already satisfied: requests<3,>=2.27 in /usr/local/lib/python3.10/dist-packages (from gtts) (2.31.0)\n",
            "Requirement already satisfied: click<8.2,>=7.1 in /usr/local/lib/python3.10/dist-packages (from gtts) (8.1.7)\n",
            "Requirement already satisfied: entrypoints in /usr/local/lib/python3.10/dist-packages (from altair<6.0,>=4.2.0->gradio) (0.4)\n",
            "Requirement already satisfied: jsonschema>=3.0 in /usr/local/lib/python3.10/dist-packages (from altair<6.0,>=4.2.0->gradio) (4.19.2)\n",
            "Requirement already satisfied: toolz in /usr/local/lib/python3.10/dist-packages (from altair<6.0,>=4.2.0->gradio) (0.12.1)\n",
            "Requirement already satisfied: anyio in /usr/local/lib/python3.10/dist-packages (from httpx>=0.24.1->gradio) (3.7.1)\n",
            "Requirement already satisfied: certifi in /usr/local/lib/python3.10/dist-packages (from httpx>=0.24.1->gradio) (2024.2.2)\n",
            "Collecting httpcore==1.* (from httpx>=0.24.1->gradio)\n",
            "  Downloading httpcore-1.0.5-py3-none-any.whl (77 kB)\n",
            "\u001b[2K     \u001b[90m━━━━━━━━━━━━━━━━━━━━━━━━━━━━━━━━━━━━━━━━\u001b[0m \u001b[32m77.9/77.9 kB\u001b[0m \u001b[31m9.2 MB/s\u001b[0m eta \u001b[36m0:00:00\u001b[0m\n",
            "\u001b[?25hRequirement already satisfied: idna in /usr/local/lib/python3.10/dist-packages (from httpx>=0.24.1->gradio) (3.7)\n",
            "Requirement already satisfied: sniffio in /usr/local/lib/python3.10/dist-packages (from httpx>=0.24.1->gradio) (1.3.1)\n",
            "Collecting h11<0.15,>=0.13 (from httpcore==1.*->httpx>=0.24.1->gradio)\n",
            "  Downloading h11-0.14.0-py3-none-any.whl (58 kB)\n",
            "\u001b[2K     \u001b[90m━━━━━━━━━━━━━━━━━━━━━━━━━━━━━━━━━━━━━━━━\u001b[0m \u001b[32m58.3/58.3 kB\u001b[0m \u001b[31m6.3 MB/s\u001b[0m eta \u001b[36m0:00:00\u001b[0m\n",
            "\u001b[?25hRequirement already satisfied: filelock in /usr/local/lib/python3.10/dist-packages (from huggingface-hub>=0.19.3->gradio) (3.13.4)\n",
            "Requirement already satisfied: tqdm>=4.42.1 in /usr/local/lib/python3.10/dist-packages (from huggingface-hub>=0.19.3->gradio) (4.66.2)\n",
            "Requirement already satisfied: contourpy>=1.0.1 in /usr/local/lib/python3.10/dist-packages (from matplotlib~=3.0->gradio) (1.2.1)\n",
            "Requirement already satisfied: cycler>=0.10 in /usr/local/lib/python3.10/dist-packages (from matplotlib~=3.0->gradio) (0.12.1)\n",
            "Requirement already satisfied: fonttools>=4.22.0 in /usr/local/lib/python3.10/dist-packages (from matplotlib~=3.0->gradio) (4.51.0)\n",
            "Requirement already satisfied: kiwisolver>=1.0.1 in /usr/local/lib/python3.10/dist-packages (from matplotlib~=3.0->gradio) (1.4.5)\n",
            "Requirement already satisfied: pyparsing>=2.3.1 in /usr/local/lib/python3.10/dist-packages (from matplotlib~=3.0->gradio) (3.1.2)\n",
            "Requirement already satisfied: python-dateutil>=2.7 in /usr/local/lib/python3.10/dist-packages (from matplotlib~=3.0->gradio) (2.8.2)\n",
            "Requirement already satisfied: pytz>=2020.1 in /usr/local/lib/python3.10/dist-packages (from pandas<3.0,>=1.0->gradio) (2023.4)\n",
            "Requirement already satisfied: tzdata>=2022.1 in /usr/local/lib/python3.10/dist-packages (from pandas<3.0,>=1.0->gradio) (2024.1)\n",
            "Requirement already satisfied: annotated-types>=0.4.0 in /usr/local/lib/python3.10/dist-packages (from pydantic>=2.0->gradio) (0.6.0)\n",
            "Requirement already satisfied: pydantic-core==2.18.1 in /usr/local/lib/python3.10/dist-packages (from pydantic>=2.0->gradio) (2.18.1)\n",
            "Requirement already satisfied: charset-normalizer<4,>=2 in /usr/local/lib/python3.10/dist-packages (from requests<3,>=2.27->gtts) (3.3.2)\n",
            "Collecting shellingham>=1.3.0 (from typer<1.0,>=0.12->gradio)\n",
            "  Downloading shellingham-1.5.4-py2.py3-none-any.whl (9.8 kB)\n",
            "Requirement already satisfied: rich>=10.11.0 in /usr/local/lib/python3.10/dist-packages (from typer<1.0,>=0.12->gradio) (13.7.1)\n",
            "Collecting starlette<0.38.0,>=0.37.2 (from fastapi->gradio)\n",
            "  Downloading starlette-0.37.2-py3-none-any.whl (71 kB)\n",
            "\u001b[2K     \u001b[90m━━━━━━━━━━━━━━━━━━━━━━━━━━━━━━━━━━━━━━━━\u001b[0m \u001b[32m71.9/71.9 kB\u001b[0m \u001b[31m8.2 MB/s\u001b[0m eta \u001b[36m0:00:00\u001b[0m\n",
            "\u001b[?25hRequirement already satisfied: attrs>=22.2.0 in /usr/local/lib/python3.10/dist-packages (from jsonschema>=3.0->altair<6.0,>=4.2.0->gradio) (23.2.0)\n",
            "Requirement already satisfied: jsonschema-specifications>=2023.03.6 in /usr/local/lib/python3.10/dist-packages (from jsonschema>=3.0->altair<6.0,>=4.2.0->gradio) (2023.12.1)\n",
            "Requirement already satisfied: referencing>=0.28.4 in /usr/local/lib/python3.10/dist-packages (from jsonschema>=3.0->altair<6.0,>=4.2.0->gradio) (0.34.0)\n",
            "Requirement already satisfied: rpds-py>=0.7.1 in /usr/local/lib/python3.10/dist-packages (from jsonschema>=3.0->altair<6.0,>=4.2.0->gradio) (0.18.0)\n",
            "Requirement already satisfied: six>=1.5 in /usr/local/lib/python3.10/dist-packages (from python-dateutil>=2.7->matplotlib~=3.0->gradio) (1.16.0)\n",
            "Requirement already satisfied: markdown-it-py>=2.2.0 in /usr/local/lib/python3.10/dist-packages (from rich>=10.11.0->typer<1.0,>=0.12->gradio) (3.0.0)\n",
            "Requirement already satisfied: pygments<3.0.0,>=2.13.0 in /usr/local/lib/python3.10/dist-packages (from rich>=10.11.0->typer<1.0,>=0.12->gradio) (2.16.1)\n",
            "Requirement already satisfied: exceptiongroup in /usr/local/lib/python3.10/dist-packages (from anyio->httpx>=0.24.1->gradio) (1.2.1)\n",
            "Requirement already satisfied: mdurl~=0.1 in /usr/local/lib/python3.10/dist-packages (from markdown-it-py>=2.2.0->rich>=10.11.0->typer<1.0,>=0.12->gradio) (0.1.2)\n",
            "Building wheels for collected packages: ffmpy\n",
            "  Building wheel for ffmpy (setup.py) ... \u001b[?25l\u001b[?25hdone\n",
            "  Created wheel for ffmpy: filename=ffmpy-0.3.2-py3-none-any.whl size=5584 sha256=0e49a13d19d0ab5af5a9695fe6d8428bd1e4c097a413f3d26d7c234c04d13a87\n",
            "  Stored in directory: /root/.cache/pip/wheels/bd/65/9a/671fc6dcde07d4418df0c592f8df512b26d7a0029c2a23dd81\n",
            "Successfully built ffmpy\n",
            "Installing collected packages: pydub, ffmpy, websockets, tomlkit, shellingham, semantic-version, ruff, python-multipart, orjson, h11, aiofiles, uvicorn, starlette, httpcore, typer, httpx, fastapi, gradio-client, gradio\n",
            "  Attempting uninstall: typer\n",
            "    Found existing installation: typer 0.9.4\n",
            "    Uninstalling typer-0.9.4:\n",
            "      Successfully uninstalled typer-0.9.4\n",
            "\u001b[31mERROR: pip's dependency resolver does not currently take into account all the packages that are installed. This behaviour is the source of the following dependency conflicts.\n",
            "spacy 3.7.4 requires typer<0.10.0,>=0.3.0, but you have typer 0.12.3 which is incompatible.\n",
            "weasel 0.3.4 requires typer<0.10.0,>=0.3.0, but you have typer 0.12.3 which is incompatible.\u001b[0m\u001b[31m\n",
            "\u001b[0mSuccessfully installed aiofiles-23.2.1 fastapi-0.110.2 ffmpy-0.3.2 gradio-4.28.3 gradio-client-0.16.0 h11-0.14.0 httpcore-1.0.5 httpx-0.27.0 orjson-3.10.1 pydub-0.25.1 python-multipart-0.0.9 ruff-0.4.2 semantic-version-2.10.0 shellingham-1.5.4 starlette-0.37.2 tomlkit-0.12.0 typer-0.12.3 uvicorn-0.29.0 websockets-11.0.3\n"
          ]
        }
      ]
    },
    {
      "cell_type": "code",
      "source": [
        "import gradio as gr\n",
        "from gtts import gTTS\n",
        "import os\n",
        "\n",
        "def text_to_speech(text, language):\n",
        "    lang_code = 'en' if language == \"English\" else 'ko'\n",
        "    tts = gTTS(text=text, lang=lang_code, slow=False)\n",
        "    tts.save(\"output.mp3\")\n",
        "    return \"output.mp3\"\n",
        "\n",
        "interface = gr.Interface(\n",
        "    fn=text_to_speech,\n",
        "    inputs=[\n",
        "        gr.Textbox(lines=3, label=\"Enter text\"),\n",
        "        gr.Radio(choices=[\"English\", \"Korean\"], label=\"Select language\")\n",
        "    ],\n",
        "    outputs=gr.Audio(type=\"filepath\", label=\"Audio\"),\n",
        "    title=\"Text-to-Speech\",\n",
        "    description=\"Type in some text, select a language, and generate audio.\",\n",
        ")\n",
        "\n",
        "interface.launch()"
      ],
      "metadata": {
        "colab": {
          "base_uri": "https://localhost:8080/",
          "height": 651
        },
        "id": "YTg8G8IGuFUR",
        "outputId": "10e76ccc-79f8-4556-df44-fea16b028a41"
      },
      "execution_count": 19,
      "outputs": [
        {
          "output_type": "stream",
          "name": "stdout",
          "text": [
            "Setting queue=True in a Colab notebook requires sharing enabled. Setting `share=True` (you can turn this off by setting `share=False` in `launch()` explicitly).\n",
            "\n",
            "Colab notebook detected. To show errors in colab notebook, set debug=True in launch()\n",
            "Running on public URL: https://137b4dba9f2096ec3e.gradio.live\n",
            "\n",
            "This share link expires in 72 hours. For free permanent hosting and GPU upgrades, run `gradio deploy` from Terminal to deploy to Spaces (https://huggingface.co/spaces)\n"
          ]
        },
        {
          "output_type": "display_data",
          "data": {
            "text/plain": [
              "<IPython.core.display.HTML object>"
            ],
            "text/html": [
              "<div><iframe src=\"https://137b4dba9f2096ec3e.gradio.live\" width=\"100%\" height=\"500\" allow=\"autoplay; camera; microphone; clipboard-read; clipboard-write;\" frameborder=\"0\" allowfullscreen></iframe></div>"
            ]
          },
          "metadata": {}
        },
        {
          "output_type": "execute_result",
          "data": {
            "text/plain": []
          },
          "metadata": {},
          "execution_count": 19
        }
      ]
    },
    {
      "cell_type": "markdown",
      "source": [
        "## Countdown Question"
      ],
      "metadata": {
        "id": "02YeBetbulA6"
      }
    },
    {
      "cell_type": "code",
      "source": [
        "import gradio as gr\n",
        "from datetime import datetime\n",
        "\n",
        "def countdown(target_date):\n",
        "    try:\n",
        "        # Parse the user input date\n",
        "        date_format = \"%Y-%m-%d\"\n",
        "        future_date = datetime.strptime(target_date, date_format)\n",
        "\n",
        "        # Get the current time\n",
        "        now = datetime.now()\n",
        "\n",
        "        # Calculate the difference between the future date and the current time\n",
        "        countdown = future_date - now\n",
        "\n",
        "        # Generate the countdown message\n",
        "        if countdown.days >= 0:\n",
        "            return f\"Time until {target_date}: \\n {countdown.days} days, {countdown.seconds//3600} hours, {(countdown.seconds//60)%60} minutes.\"\n",
        "        else:\n",
        "            return \"The specified date has already passed.\"\n",
        "    except ValueError:\n",
        "        return \"Please enter the date in YYYY-MM-DD format.\"\n",
        "\n",
        "# Create the Gradio interface\n",
        "interface = gr.Interface(\n",
        "    fn=countdown,\n",
        "    inputs=gr.Text(label=\"Enter a future date (e.g., 2024-12-25)\"),\n",
        "    outputs=\"text\",\n",
        "    title=\"남은 날짜 계산기\",\n",
        "    description=\"지정한 날까지 몇 시간, 며칠이 남았는지 계산해 줍니다.\"\n",
        ")\n",
        "\n",
        "interface.launch()\n"
      ],
      "metadata": {
        "colab": {
          "base_uri": "https://localhost:8080/",
          "height": 651
        },
        "id": "WYLCFCX_unyq",
        "outputId": "17dfe7ab-2fc0-42e8-b8ed-7e137f190987"
      },
      "execution_count": 21,
      "outputs": [
        {
          "output_type": "stream",
          "name": "stdout",
          "text": [
            "Setting queue=True in a Colab notebook requires sharing enabled. Setting `share=True` (you can turn this off by setting `share=False` in `launch()` explicitly).\n",
            "\n",
            "Colab notebook detected. To show errors in colab notebook, set debug=True in launch()\n",
            "Running on public URL: https://57b8cf849fe7e5f7d5.gradio.live\n",
            "\n",
            "This share link expires in 72 hours. For free permanent hosting and GPU upgrades, run `gradio deploy` from Terminal to deploy to Spaces (https://huggingface.co/spaces)\n"
          ]
        },
        {
          "output_type": "display_data",
          "data": {
            "text/plain": [
              "<IPython.core.display.HTML object>"
            ],
            "text/html": [
              "<div><iframe src=\"https://57b8cf849fe7e5f7d5.gradio.live\" width=\"100%\" height=\"500\" allow=\"autoplay; camera; microphone; clipboard-read; clipboard-write;\" frameborder=\"0\" allowfullscreen></iframe></div>"
            ]
          },
          "metadata": {}
        },
        {
          "output_type": "execute_result",
          "data": {
            "text/plain": []
          },
          "metadata": {},
          "execution_count": 21
        }
      ]
    }
  ]
}